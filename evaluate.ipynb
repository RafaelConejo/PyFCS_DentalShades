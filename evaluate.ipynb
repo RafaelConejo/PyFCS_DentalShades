{
 "cells": [
  {
   "cell_type": "code",
   "execution_count": 2,
   "metadata": {},
   "outputs": [],
   "source": [
    "import os\n",
    "import sys\n",
    "import ast\n",
    "import pandas as pd\n",
    "import numpy as np\n",
    "from tabulate import tabulate\n",
    "\n",
    "\n",
    "current_dir = os.getcwd()  # Current directory\n",
    "pyfcs_dir = os.path.abspath(os.path.join(current_dir, '..', '..'))\n",
    "\n",
    "# Add the PyFCS path to sys.path\n",
    "sys.path.append(pyfcs_dir)"
   ]
  },
  {
   "cell_type": "markdown",
   "metadata": {},
   "source": [
    "# Case 1. Human Validation Software."
   ]
  },
  {
   "cell_type": "markdown",
   "metadata": {},
   "source": [
    "Generate a dictionary with the excel that contains the results."
   ]
  },
  {
   "cell_type": "code",
   "execution_count": 3,
   "metadata": {},
   "outputs": [
    {
     "name": "stdout",
     "output_type": "stream",
     "text": [
      "Loaded sheets: ['MariaTejada', 'Razvan', 'Oscar']\n"
     ]
    }
   ],
   "source": [
    "# Define the Excel file path\n",
    "file_path = os.path.join(os.getcwd(), \"Results\", \"Val_Results.xlsx\")\n",
    "\n",
    "# Load all sheets into a dictionary\n",
    "sheets_dict = pd.read_excel(file_path, sheet_name=None)\n",
    "\n",
    "# Convert each sheet into a DataFrame and store it in a dictionary\n",
    "data_dict = {name: df for name, df in sheets_dict.items()}\n",
    "\n",
    "# Display the loaded sheet names\n",
    "print(f\"Loaded sheets: {list(data_dict.keys())}\")"
   ]
  },
  {
   "cell_type": "markdown",
   "metadata": {},
   "source": [
    "Process human results."
   ]
  },
  {
   "cell_type": "code",
   "execution_count": 4,
   "metadata": {},
   "outputs": [
    {
     "name": "stdout",
     "output_type": "stream",
     "text": [
      "Processed sheet: MariaTejada\n",
      "Processed sheet: Razvan\n",
      "Processed sheet: Oscar\n"
     ]
    }
   ],
   "source": [
    "def clean_values_confidence(values, confidence):\n",
    "    \"\"\" \n",
    "    Cleans, synchronizes, and sorts Value and Confidence lists, ensuring the highest confidence value is first. \n",
    "    \"\"\"\n",
    "    # Convert values to lists, handling NaN cases safely\n",
    "    values_list = str(values).split(\",\") if pd.notna(values) else []\n",
    "    confidence_list = str(confidence).split(\",\") if pd.notna(confidence) else []\n",
    "\n",
    "    # Trim whitespace and convert confidence to float\n",
    "    values_list = [v.strip() for v in values_list]\n",
    "    confidence_list = [float(c.strip()) for c in confidence_list if c.strip()]\n",
    "\n",
    "    # Ensure both lists have the same length by padding with empty strings or zeros\n",
    "    max_length = max(len(values_list), len(confidence_list))\n",
    "    values_list += [\"\"] * (max_length - len(values_list))\n",
    "    confidence_list += [0.0] * (max_length - len(confidence_list))\n",
    "\n",
    "    # Filter out empty values and confidence scores <= 0\n",
    "    cleaned_pairs = [(v, c) for v, c in zip(values_list, confidence_list) if v and c > 0]\n",
    "\n",
    "    # **Sort by confidence in descending order** (ensures highest confidence value is first)\n",
    "    cleaned_pairs.sort(key=lambda x: x[1], reverse=True)\n",
    "\n",
    "    # Separate cleaned values back into lists\n",
    "    cleaned_values = [v for v, _ in cleaned_pairs]\n",
    "    cleaned_confidence = [c for _, c in cleaned_pairs]\n",
    "\n",
    "    return \", \".join(cleaned_values), \", \".join(map(str, cleaned_confidence))\n",
    "\n",
    "\n",
    "\n",
    "# Dictionary to store processed data\n",
    "dent_data = {}\n",
    "\n",
    "for sheet_name, df in data_dict.items():\n",
    "    new_rows = []\n",
    "\n",
    "    for _, row in df.iterrows():\n",
    "        tooth = row.get(\"Tooth\", \"\")  # Safely get 'Tooth' column value\n",
    "\n",
    "        # Process and clean Value/Confidence pairs\n",
    "        upper_value, upper_confidence = clean_values_confidence(row.get(\"Upper Value\"), row.get(\"Upper Confidence\"))\n",
    "        central_value, central_confidence = clean_values_confidence(row.get(\"Central Value\"), row.get(\"Central Confidence\"))\n",
    "        lower_value, lower_confidence = clean_values_confidence(row.get(\"Lower Value\"), row.get(\"Lower Confidence\"))\n",
    "\n",
    "        # Append cleaned row\n",
    "        new_rows.append([\n",
    "            tooth, upper_value, upper_confidence, central_value, central_confidence, lower_value, lower_confidence\n",
    "        ])\n",
    "\n",
    "    # Convert cleaned data to DataFrame\n",
    "    processed_df = pd.DataFrame(new_rows, columns=[\n",
    "        \"Tooth\", \"Upper Value\", \"Upper Confidence\", \"Central Value\",\n",
    "        \"Central Confidence\", \"Lower Value\", \"Lower Confidence\"\n",
    "    ])\n",
    "    \n",
    "    # Store processed DataFrame\n",
    "    dent_data[sheet_name] = processed_df\n",
    "\n",
    "    print(f\"Processed sheet: {sheet_name}\")"
   ]
  },
  {
   "cell_type": "code",
   "execution_count": 5,
   "metadata": {},
   "outputs": [
    {
     "name": "stdout",
     "output_type": "stream",
     "text": [
      "('A1, B2', '0.9, 0.2')\n",
      "('C3', '0.6')\n",
      "('A1, D1, C1', '0.9, 0.8, 0.7')\n"
     ]
    }
   ],
   "source": [
    "print(clean_values_confidence(\"A1, , B2\", \"0.9, 0.5, 0.2\"))\n",
    "print(clean_values_confidence(\" , C3, \", \"0.7, 0.6, 0.0\"))\n",
    "print(clean_values_confidence(\"D1, C1, A1\", \"0.8, 0.7, 0.9\"))"
   ]
  },
  {
   "cell_type": "code",
   "execution_count": 6,
   "metadata": {},
   "outputs": [
    {
     "name": "stdout",
     "output_type": "stream",
     "text": [
      "\n",
      "Sheet: MariaTejada\n",
      "       Tooth             Upper Value        Upper Confidence      Central Value      Central Confidence      Lower Value        Lower Confidence  \n",
      "          A1                C1, D2              0.3, 0.2              A1, B1              0.9, 0.1              C1, B1              0.2, 0.1      \n",
      "          A2                C3, C2              0.5, 0.2                  A2                   0.9                  D2                   0.3      \n",
      "          A3                    D4                   0.5                  A3                   0.9                  C2                   0.5      \n",
      "        A3_5                    A4                   0.2                A3_5                   0.7                  A4                   0.2      \n",
      "          A4                    C4                   0.2                  A4                   0.9                  C4                   0.4      \n",
      "\n",
      "Sheet: Razvan\n",
      "       Tooth             Upper Value        Upper Confidence      Central Value      Central Confidence      Lower Value        Lower Confidence  \n",
      "          A1                   A1, C1             0.7, 0.4               A1, B1             0.9, 0.3             B1, A1             0.6, 0.5      \n",
      "          A2                   A3, A2             0.8, 0.5                   A2                  0.9                 B2                  0.8      \n",
      "          A3                   C3, C2             0.9, 0.3               A3, A2             1.0, 0.3                 C2                  0.7      \n",
      "        A3_5             A3_5, B4, B3        0.6, 0.5, 0.4             A3_5, B4             0.9, 0.6           A3_5, B4             0.7, 0.5      \n",
      "          A4                   C4, C3             0.6, 0.5         A4, A3_5, C4        1.0, 0.2, 0.2                 C4                  0.3      \n",
      "\n",
      "Sheet: Oscar\n",
      "       Tooth             Upper Value        Upper Confidence      Central Value      Central Confidence      Lower Value        Lower Confidence  \n",
      "          A1                 B1, A1             0.8, 0.2                   A1                  1.0                   A1                  1.0      \n",
      "          A2                     A2                  1.0                   A2                  1.0                   A2                  1.0      \n",
      "          A3                     A3                  1.0                   A3                  1.0                   A3                  1.0      \n",
      "        A3_5               B4, A3_5             0.7, 0.3             B4, A3_5             0.6, 0.4             B4, A3_5             0.5, 0.5      \n",
      "          A4                     A4                  1.0                   A4                  1.0                   A4                  1.0      \n"
     ]
    }
   ],
   "source": [
    "# Increase column spacing for better readability\n",
    "pd.set_option(\"display.colheader_justify\", \"center\")  # Center column headers\n",
    "pd.set_option(\"display.width\", 200)  # Increase display width\n",
    "pd.set_option(\"display.max_columns\", None)  # Show all columns\n",
    "\n",
    "for sheet_name, df in dent_data.items():\n",
    "    print(f\"\\nSheet: {sheet_name}\")\n",
    "    print(df.head().to_string(index=False, col_space=20))  \n"
   ]
  },
  {
   "cell_type": "markdown",
   "metadata": {},
   "source": [
    "## Load results from PyFCS (Option 1 and 2)"
   ]
  },
  {
   "cell_type": "code",
   "execution_count": 7,
   "metadata": {},
   "outputs": [],
   "source": [
    "# Function to parse values from string to a list of tuples\n",
    "def parse_values(cell):\n",
    "    if isinstance(cell, str):\n",
    "        try:\n",
    "            return eval(cell)  # Converts string representation of a list into an actual list\n",
    "        except (SyntaxError, NameError):\n",
    "            return []  \n",
    "    return []\n",
    "\n",
    "# Function to safely parse dictionary-like strings\n",
    "def parse_values_2(cell):\n",
    "    if isinstance(cell, str):\n",
    "        try:\n",
    "            return ast.literal_eval(cell)  # Converts string representation of a dictionary into an actual dictionary\n",
    "        except (ValueError, SyntaxError):\n",
    "            return {}  \n",
    "    return {}\n",
    "\n",
    "# Function to process Excel files\n",
    "def process_excel(file_path, parse_func, sort_dict=False):\n",
    "    # Read the Excel file\n",
    "    df = pd.read_excel(file_path)\n",
    "\n",
    "    # Rename and clean the 'Imagen' column to 'Tooth'\n",
    "    df.rename(columns={\"Imagen\": \"Tooth\"}, inplace=True)\n",
    "    df[\"Tooth\"] = df[\"Tooth\"].str.replace(\".png\", \"\", regex=False)\n",
    "\n",
    "    # Apply parsing function to relevant columns\n",
    "    df[\"top\"] = df[\"top\"].apply(parse_func)\n",
    "    df[\"middle\"] = df[\"middle\"].apply(parse_func)\n",
    "    df[\"bottom\"] = df[\"bottom\"].apply(parse_func)\n",
    "\n",
    "    # Define a function to format values based on data type\n",
    "    def format_values(data):\n",
    "        if isinstance(data, list):  # Handles list of tuples\n",
    "            return \", \".join([str(i[0]) for i in data])\n",
    "        elif isinstance(data, dict) and sort_dict:  # Handles dictionary sorting by values\n",
    "            return \", \".join(sorted(data.keys(), key=data.get, reverse=True))\n",
    "        return \"\"\n",
    "\n",
    "    def format_confidence(data):\n",
    "        if isinstance(data, list):  # Handles list of tuples\n",
    "            return \", \".join([str(i[1]) for i in data])\n",
    "        elif isinstance(data, dict) and sort_dict:  # Handles dictionary sorting by values\n",
    "            return \", \".join(map(str, sorted(data.values(), reverse=True)))\n",
    "        return \"\"\n",
    "\n",
    "    # Create new formatted columns\n",
    "    df[\"Upper Value\"] = df[\"top\"].apply(format_values)\n",
    "    df[\"Upper Confidence\"] = df[\"top\"].apply(format_confidence)\n",
    "    df[\"Central Value\"] = df[\"middle\"].apply(format_values)\n",
    "    df[\"Central Confidence\"] = df[\"middle\"].apply(format_confidence)\n",
    "    df[\"Lower Value\"] = df[\"bottom\"].apply(format_values)\n",
    "    df[\"Lower Confidence\"] = df[\"bottom\"].apply(format_confidence)\n",
    "\n",
    "    # Drop unnecessary columns\n",
    "    df.drop(columns=[\"top\", \"middle\", \"bottom\"], inplace=True)\n",
    "\n",
    "    # Return the processed DataFrame with selected columns\n",
    "    return df[['Tooth', 'Upper Value', 'Upper Confidence', 'Central Value', \n",
    "               'Central Confidence', 'Lower Value', 'Lower Confidence']]\n",
    "\n",
    "\n",
    "\n",
    "# Define file paths\n",
    "base_path = os.path.join(os.getcwd(), \"Results\", \"PyFCS\")\n",
    "file_1 = os.path.join(base_path, \"results_opt_1.xlsx\")\n",
    "file_2 = os.path.join(base_path, \"results_opt_2.xlsx\")\n",
    "\n",
    "# Process both files\n",
    "pyfcs_opt_1 = process_excel(file_1, parse_values)\n",
    "pyfcs_opt_2 = process_excel(file_2, parse_values_2, sort_dict=True)"
   ]
  },
  {
   "cell_type": "code",
   "execution_count": 8,
   "metadata": {},
   "outputs": [
    {
     "name": "stdout",
     "output_type": "stream",
     "text": [
      "       Tooth             Upper Value        Upper Confidence      Central Value      Central Confidence      Lower Value        Lower Confidence  \n",
      "          A1              A1, D2, C1       0.417, 0.334, 0.15                A1                     1.0            D2, A1            0.475, 0.306 \n",
      "          A2              C3, C4, A3      0.219, 0.205, 0.179            A2, B2            0.666, 0.319        B2, D3, C4       0.4, 0.296, 0.148 \n",
      "          A3              D4, C3, C4      0.331, 0.285, 0.229            A3, B2             0.83, 0.103        D4, C2, C4     0.282, 0.282, 0.227 \n",
      "        A3_5                  B4, C4             0.435, 0.365      A3_5, B3, B4     0.421, 0.322, 0.245      C4, A3_5, B4     0.338, 0.272, 0.193 \n",
      "          A4              C4, A4, B4      0.546, 0.279, 0.101            A4, C3            0.711, 0.225            C4, A4            0.718, 0.254 \n",
      "\n",
      "\n",
      "       Tooth             Upper Value        Upper Confidence      Central Value      Central Confidence      Lower Value        Lower Confidence  \n",
      "          A1                      D2                      1.0                A1                     1.0               D2                      1.0 \n",
      "          A2                  C3, C2             0.631, 0.369            A2, B2            0.767, 0.233               D3                      1.0 \n",
      "          A3                      C3                      1.0                A3                     1.0       C3, C2, C4      0.764, 0.229, 0.007 \n",
      "        A3_5              A4, C4, C3      0.508, 0.358, 0.134      A3.5, B3, B4     0.594, 0.267, 0.139       C4, C3, A4      0.773, 0.114, 0.113 \n",
      "          A4                      C4                      1.0            A4, C3            0.799, 0.201               C4                      1.0 \n"
     ]
    }
   ],
   "source": [
    "print(pyfcs_opt_1.head().to_string(index=False, col_space=20))\n",
    "print(\"\\n\")\n",
    "print(pyfcs_opt_2.head().to_string(index=False, col_space=20))"
   ]
  },
  {
   "cell_type": "markdown",
   "metadata": {},
   "source": [
    "## Comparison of real results with cases solved by PyFCS."
   ]
  },
  {
   "cell_type": "code",
   "execution_count": 9,
   "metadata": {},
   "outputs": [],
   "source": [
    "def calculate_matches(dent_data, pyfcs_opt_1, mode=0, sheet_name=None):\n",
    "    matches = {\"Upper Value\": 0, \"Central Value\": 0, \"Lower Value\": 0}\n",
    "    value_types = [\"Upper Value\", \"Central Value\", \"Lower Value\"]\n",
    "\n",
    "    # If a sheet is specified, only process that sheet\n",
    "    if sheet_name:\n",
    "        if sheet_name not in dent_data:\n",
    "            print(f\"Sheet '{sheet_name}' not found in dent_data.\")\n",
    "            return matches  # Return an empty dictionary if the sheet doesn't exist\n",
    "        dent_data = {sheet_name: dent_data[sheet_name]}  # Filter dent_data to keep only the selected sheet\n",
    "\n",
    "    # Iterate over the sheets (if there's only one, it will process only that)\n",
    "    for sheet_name, sheet_data in dent_data.items():\n",
    "        for i in range(len(sheet_data[\"Tooth\"])):\n",
    "            for value_type in value_types:\n",
    "                # Extract values as sets\n",
    "                dent_values = set(sheet_data[value_type][i].split(\", \"))\n",
    "                pyfcs_values = set(pyfcs_opt_1[value_type][i].split(\", \"))\n",
    "\n",
    "                if mode == 0:  # General comparison (counts all matches)\n",
    "                    matches[value_type] += len(dent_values & pyfcs_values)\n",
    "\n",
    "                elif mode == 1:  # Boolean comparison (adds 1 if there's at least one match)\n",
    "                    if dent_values & pyfcs_values:\n",
    "                        matches[value_type] += 1\n",
    "\n",
    "                elif mode == 2:  # Highest confidence comparison (compares only the first value)\n",
    "                    if sheet_data[value_type][i].split(\", \")[0] == pyfcs_opt_1[value_type][i].split(\", \")[0]:\n",
    "                        matches[value_type] += 1\n",
    "\n",
    "    return matches"
   ]
  },
  {
   "cell_type": "markdown",
   "metadata": {},
   "source": [
    "### Compare to Option Summary of pixel"
   ]
  },
  {
   "cell_type": "code",
   "execution_count": 10,
   "metadata": {},
   "outputs": [
    {
     "data": {
      "text/plain": [
       "'Oscar'"
      ]
     },
     "execution_count": 10,
     "metadata": {},
     "output_type": "execute_result"
    }
   ],
   "source": [
    "dent_index = 2\n",
    "dent_key = list(dent_data.keys())[dent_index]\n",
    "dent_key"
   ]
  },
  {
   "cell_type": "code",
   "execution_count": 11,
   "metadata": {},
   "outputs": [
    {
     "name": "stdout",
     "output_type": "stream",
     "text": [
      "Matches per row:\n",
      "\tUpper Value: 12\n",
      "\tCentral Value: 15\n",
      "\tLower Value: 12\n",
      "\n",
      "\n",
      "Matches with highest confidence:\n",
      "\tUpper Value: 4\n",
      "\tCentral Value: 13\n",
      "\tLower Value: 7\n",
      "\n",
      "\n",
      "Matches in total:\n",
      "\tUpper Value: 12\n",
      "\tCentral Value: 17\n",
      "\tLower Value: 14\n"
     ]
    }
   ],
   "source": [
    "matches_count = calculate_matches(dent_data, pyfcs_opt_1, mode=0, sheet_name=dent_key)  # To count matches\n",
    "matches_exist = calculate_matches(dent_data, pyfcs_opt_1, mode=1, sheet_name=dent_key)  # To check existence of matches\n",
    "matches_highest_confidence = calculate_matches(dent_data, pyfcs_opt_1, mode=2, sheet_name=dent_key) # Highest confidence comparison\n",
    "\n",
    "print(\"Matches per row:\")\n",
    "for col, match in matches_exist.items():\n",
    "    print(f\"\\t{col}: {match}\")\n",
    "\n",
    "print('\\n')\n",
    "\n",
    "print(\"Matches with highest confidence:\")\n",
    "for col, match in matches_highest_confidence.items():\n",
    "    print(f\"\\t{col}: {match}\")\n",
    "\n",
    "print('\\n')\n",
    "    \n",
    "print(\"Matches in total:\")\n",
    "for col, match in matches_count.items():\n",
    "    print(f\"\\t{col}: {match}\")"
   ]
  },
  {
   "cell_type": "markdown",
   "metadata": {},
   "source": [
    "### Compare to Option Mean of pixels"
   ]
  },
  {
   "cell_type": "code",
   "execution_count": 12,
   "metadata": {},
   "outputs": [
    {
     "name": "stdout",
     "output_type": "stream",
     "text": [
      "Matches per row:\n",
      "\tUpper Value: 3\n",
      "\tCentral Value: 15\n",
      "\tLower Value: 2\n",
      "\n",
      "\n",
      "Matches with highest confidence:\n",
      "\tUpper Value: 2\n",
      "\tCentral Value: 13\n",
      "\tLower Value: 1\n",
      "\n",
      "\n",
      "Matches in total:\n",
      "\tUpper Value: 3\n",
      "\tCentral Value: 16\n",
      "\tLower Value: 2\n"
     ]
    }
   ],
   "source": [
    "matches_count = calculate_matches(dent_data, pyfcs_opt_2, mode=0, sheet_name=dent_key)  # To count matches\n",
    "matches_exist = calculate_matches(dent_data, pyfcs_opt_2, mode=1, sheet_name=dent_key)  # To check existence of matches\n",
    "matches_highest_confidence = calculate_matches(dent_data, pyfcs_opt_2, mode=2, sheet_name=dent_key) # Highest confidence comparison\n",
    "\n",
    "print(\"Matches per row:\")\n",
    "for col, match in matches_exist.items():\n",
    "    print(f\"\\t{col}: {match}\")\n",
    "\n",
    "print('\\n')\n",
    "\n",
    "print(\"Matches with highest confidence:\")\n",
    "for col, match in matches_highest_confidence.items():\n",
    "    print(f\"\\t{col}: {match}\")\n",
    "\n",
    "print('\\n')\n",
    "    \n",
    "print(\"Matches in total:\")\n",
    "for col, match in matches_count.items():\n",
    "    print(f\"\\t{col}: {match}\")"
   ]
  },
  {
   "cell_type": "markdown",
   "metadata": {},
   "source": [
    "## Time Evaluation.\n"
   ]
  },
  {
   "cell_type": "code",
   "execution_count": 13,
   "metadata": {},
   "outputs": [
    {
     "name": "stdout",
     "output_type": "stream",
     "text": [
      "Loaded sheets: ['MariaTejada_Time', 'Razvan_Time', 'Oscar_Time']\n"
     ]
    }
   ],
   "source": [
    "# Define the Excel file path\n",
    "file_path = os.path.join(os.getcwd(), \"Results\", \"Val_Time.xlsx\")\n",
    "\n",
    "# Load all sheets into a dictionary\n",
    "sheets_dict = pd.read_excel(file_path, sheet_name=None)\n",
    "\n",
    "# Convert each sheet into a DataFrame and store it in a dictionary\n",
    "data_dict = {name: df for name, df in sheets_dict.items()}\n",
    "\n",
    "# Display the loaded sheet names\n",
    "print(f\"Loaded sheets: {list(data_dict.keys())}\")"
   ]
  },
  {
   "cell_type": "code",
   "execution_count": 14,
   "metadata": {},
   "outputs": [
    {
     "name": "stdout",
     "output_type": "stream",
     "text": [
      "Sheet: MariaTejada_Time\n",
      "Total Time: 52.69397112131119 minutos\n",
      "Top 5 dientes con más tiempo:\n",
      "  Diente: D3, Tiempo: 5.42 minutos\n",
      "  Diente: D2, Tiempo: 5.25 minutos\n",
      "  Diente: B3, Tiempo: 4.89 minutos\n",
      "  Diente: A2, Tiempo: 4.77 minutos\n",
      "  Diente: C3, Tiempo: 4.39 minutos\n",
      "\n",
      "Sheet: Razvan_Time\n",
      "Total Time: 66.12417820294698 minutos\n",
      "Top 5 dientes con más tiempo:\n",
      "  Diente: D3, Tiempo: 17.68 minutos\n",
      "  Diente: A3_5, Tiempo: 5.58 minutos\n",
      "  Diente: A3, Tiempo: 5.28 minutos\n",
      "  Diente: C1, Tiempo: 5.20 minutos\n",
      "  Diente: B3, Tiempo: 5.20 minutos\n",
      "\n",
      "Sheet: Oscar_Time\n",
      "Total Time: 33.01597264210383 minutos\n",
      "Top 5 dientes con más tiempo:\n",
      "  Diente: D2, Tiempo: 3.90 minutos\n",
      "  Diente: D4, Tiempo: 3.78 minutos\n",
      "  Diente: D3, Tiempo: 3.13 minutos\n",
      "  Diente: A3_5, Tiempo: 2.80 minutos\n",
      "  Diente: B3, Tiempo: 2.79 minutos\n",
      "\n"
     ]
    }
   ],
   "source": [
    "top_tooth_times = {}\n",
    "for key, df in data_dict.items():\n",
    "    top_t = df[df['Tooth'] != 'Total'].sort_values(by='Elapsed Time (minutes)', ascending=False).head(5)\n",
    "    \n",
    "    # Get total time and top tooth in time\n",
    "    total_time = df[df['Tooth'] == 'Total']['Elapsed Time (minutes)'].iloc[0]\n",
    "    top_tooth_times[key] = {\n",
    "        'total_time': total_time,\n",
    "        'top_5_tooth': top_t[['Tooth', 'Elapsed Time (minutes)']].values.tolist()\n",
    "    }\n",
    "\n",
    "# Show Time Results\n",
    "for key, value in top_tooth_times.items():\n",
    "    print(f\"Sheet: {key}\")\n",
    "    print(f\"Total Time: {value['total_time']} minutos\")\n",
    "    print(\"Top 5 dientes con más tiempo:\")\n",
    "    for tooth, time in value['top_5_tooth']:\n",
    "        print(f\"  Diente: {tooth}, Tiempo: {time:.2f} minutos\")\n",
    "    print()"
   ]
  },
  {
   "cell_type": "markdown",
   "metadata": {},
   "source": [
    "# Compare Results"
   ]
  },
  {
   "cell_type": "code",
   "execution_count": 41,
   "metadata": {},
   "outputs": [],
   "source": [
    "def compare_dental_data(pyfcs_df, dent_dict):\n",
    "    results = {}\n",
    "\n",
    "    for person, dent_df in dent_dict.items():\n",
    "        comparison_result = pd.DataFrame(columns=[\"Tooth\", \n",
    "                                                  \"Upper Tooth|PyFCS_Value|Expert_Value\", \"Upper Score (0-1)\", \n",
    "                                                  \"Upper Score (1-5)\",  # Nueva columna\n",
    "                                                  \"Central Tooth|PyFCS_Value|Expert_Value\", \"Central Score (0-1)\", \n",
    "                                                  \"Central Score (1-5)\",  # Nueva columna\n",
    "                                                  \"Lower Tooth|PyFCS_Value|Expert_Value\", \"Lower Score (0-1)\", \n",
    "                                                  \"Lower Score (1-5)\"])  # Nueva columna\n",
    "        comparison_result[\"Tooth\"] = dent_df[\"Tooth\"]\n",
    "\n",
    "        for index, row in dent_df.iterrows():\n",
    "            pyfcs_row = pyfcs_df[pyfcs_df[\"Tooth\"] == row[\"Tooth\"]]\n",
    "            if pyfcs_row.empty:\n",
    "                continue\n",
    "\n",
    "            for value_col, conf_col, match_col, formatted_col, score_col_01, score_col_15 in [\n",
    "                (\"Upper Value\", \"Upper Confidence\", \"Upper Score (0-1)\", \"Upper Tooth|PyFCS_Value|Expert_Value\", \"Upper Score (0-1)\", \"Upper Score (1-5)\"),\n",
    "                (\"Central Value\", \"Central Confidence\", \"Central Score (0-1)\", \"Central Tooth|PyFCS_Value|Expert_Value\", \"Central Score (0-1)\", \"Central Score (1-5)\"),\n",
    "                (\"Lower Value\", \"Lower Confidence\", \"Lower Score (0-1)\", \"Lower Tooth|PyFCS_Value|Expert_Value\", \"Lower Score (0-1)\", \"Lower Score (1-5)\")\n",
    "            ]:\n",
    "                \n",
    "                dent_values = row[value_col].split(\", \")\n",
    "                dent_confidences = list(map(float, row[conf_col].split(\", \")))\n",
    "\n",
    "                pyfcs_values = pyfcs_row[value_col].values[0].split(\", \")\n",
    "                pyfcs_confidences = list(map(float, pyfcs_row[conf_col].values[0].split(\", \")))\n",
    "\n",
    "                formatted_results = []\n",
    "                match_results = []  # Ahora se guardará en \"Upper Score (0-1)\"\n",
    "                scores = []  # Ahora se guardará en \"Upper Score (1-5)\"\n",
    "\n",
    "                for dv, dc in zip(dent_values, dent_confidences):\n",
    "                    if dv in pyfcs_values:\n",
    "                        idx = pyfcs_values.index(dv)\n",
    "                        pyfcs_conf = pyfcs_confidences[idx]\n",
    "                        ratio = round(min(dc, pyfcs_conf) / max(dc, pyfcs_conf), 2)  # Redondear a 2 decimales\n",
    "                        formatted_results.append(f\"{dv}|{pyfcs_conf}|{dc}\")\n",
    "                        match_results.append(f\"{dv}|{ratio}\")  # Esto se guarda en \"Upper Score (0-1)\"\n",
    "\n",
    "                        # Asignar puntaje basado en el valor de ratio\n",
    "                        if ratio >= 0.8:\n",
    "                            scores.append(f\"{dv}|5\")\n",
    "                        elif ratio >= 0.6:\n",
    "                            scores.append(f\"{dv}|4\")\n",
    "                        elif ratio >= 0.4:\n",
    "                            scores.append(f\"{dv}|3\")\n",
    "                        elif ratio >= 0.2:\n",
    "                            scores.append(f\"{dv}|2\")\n",
    "                        elif ratio > 0:\n",
    "                            scores.append(f\"{dv}|1\")\n",
    "                        else:\n",
    "                            scores.append(f\"{dv}|0\")  # Valor por defecto si no entra en las categorías\n",
    "                    else:\n",
    "                        formatted_results.append(f\"{dv}|0|{dc}\")  # Si no está en pyfcs, pone 0\n",
    "                        match_results.append(f\"{dv}|0\")\n",
    "                        scores.append(f\"{dv}|0\")  # Puntaje por defecto\n",
    "\n",
    "                comparison_result.at[index, formatted_col] = \", \".join(formatted_results)\n",
    "                comparison_result.at[index, score_col_01] = \", \".join(match_results)  # Upper Score (0-1)\n",
    "                comparison_result.at[index, score_col_15] = \", \".join(scores)  # Upper Score (1-5)\n",
    "        \n",
    "        results[person] = comparison_result\n",
    "\n",
    "    return results\n",
    "\n",
    "# Ejecutar comparación\n",
    "resultados_comparacion = compare_dental_data(pyfcs_opt_1, dent_data)"
   ]
  },
  {
   "cell_type": "code",
   "execution_count": 42,
   "metadata": {},
   "outputs": [
    {
     "name": "stdout",
     "output_type": "stream",
     "text": [
      "\n",
      "Sheet: MariaTejada\n",
      "+---------+----------------------------------------+---------------------+---------------------+------------------------------------------+-----------------------+-----------------------+----------------------------------------+---------------------+---------------------+\n",
      "| Tooth   | Upper Tooth|PyFCS_Value|Expert_Value   | Upper Score (0-1)   | Upper Score (1-5)   | Central Tooth|PyFCS_Value|Expert_Value   | Central Score (0-1)   | Central Score (1-5)   | Lower Tooth|PyFCS_Value|Expert_Value   | Lower Score (0-1)   | Lower Score (1-5)   |\n",
      "+=========+========================================+=====================+=====================+==========================================+=======================+=======================+========================================+=====================+=====================+\n",
      "| A1      | C1|0.15|0.3, D2|0.334|0.2              | C1|0.5, D2|0.6      | C1|3, D2|4          | A1|1.0|0.9, B1|0|0.1                     | A1|0.9, B1|0          | A1|5, B1|0            | C1|0|0.2, B1|0|0.1                     | C1|0, B1|0          | C1|0, B1|0          |\n",
      "+---------+----------------------------------------+---------------------+---------------------+------------------------------------------+-----------------------+-----------------------+----------------------------------------+---------------------+---------------------+\n",
      "| A2      | C3|0.219|0.5, C2|0|0.2                 | C3|0.44, C2|0       | C3|3, C2|0          | A2|0.666|0.9                             | A2|0.74               | A2|4                  | D2|0|0.3                               | D2|0                | D2|0                |\n",
      "+---------+----------------------------------------+---------------------+---------------------+------------------------------------------+-----------------------+-----------------------+----------------------------------------+---------------------+---------------------+\n",
      "| A3      | D4|0.331|0.5                           | D4|0.66             | D4|4                | A3|0.83|0.9                              | A3|0.92               | A3|5                  | C2|0.282|0.5                           | C2|0.56             | C2|3                |\n",
      "+---------+----------------------------------------+---------------------+---------------------+------------------------------------------+-----------------------+-----------------------+----------------------------------------+---------------------+---------------------+\n",
      "| A3_5    | A4|0|0.2                               | A4|0                | A4|0                | A3_5|0.421|0.7                           | A3_5|0.6              | A3_5|4                | A4|0|0.2                               | A4|0                | A4|0                |\n",
      "+---------+----------------------------------------+---------------------+---------------------+------------------------------------------+-----------------------+-----------------------+----------------------------------------+---------------------+---------------------+\n",
      "| A4      | C4|0.546|0.2                           | C4|0.37             | C4|2                | A4|0.711|0.9                             | A4|0.79               | A4|4                  | C4|0.718|0.4                           | C4|0.56             | C4|3                |\n",
      "+---------+----------------------------------------+---------------------+---------------------+------------------------------------------+-----------------------+-----------------------+----------------------------------------+---------------------+---------------------+\n",
      "| B1      | C1|0|0.3, D2|0.54|0.2                  | C1|0, D2|0.37       | C1|0, D2|2          | B1|0.992|0.9                             | B1|0.91               | B1|5                  | B1|0.504|0.2, C1|0|0.1                 | B1|0.4, C1|0        | B1|3, C1|0          |\n",
      "+---------+----------------------------------------+---------------------+---------------------+------------------------------------------+-----------------------+-----------------------+----------------------------------------+---------------------+---------------------+\n",
      "| B2      | D4|0|0.3, D2|0|0.2, C2|0.361|0.2       | D4|0, D2|0, C2|0.55 | D4|0, D2|0, C2|3    | B2|0.934|0.9, C1|0|0.1                   | B2|0.96, C1|0         | B2|5, C1|0            | C1|0.291|0.2                           | C1|0.69             | C1|4                |\n",
      "+---------+----------------------------------------+---------------------+---------------------+------------------------------------------+-----------------------+-----------------------+----------------------------------------+---------------------+---------------------+\n",
      "| B3      | A3_5|0|0.2, D4|0|0.1                   | A3_5|0, D4|0        | A3_5|0, D4|0        | B3|0.982|0.9, A3|0|0.2, A3_5|0|0.2       | B3|0.92, A3|0, A3_5|0 | B3|5, A3|0, A3_5|0    | D4|0|0.3, A3_5|0|0.1                   | D4|0, A3_5|0        | D4|0, A3_5|0        |\n",
      "+---------+----------------------------------------+---------------------+---------------------+------------------------------------------+-----------------------+-----------------------+----------------------------------------+---------------------+---------------------+\n",
      "| B4      | A4|0|0.2, B4|0.643|0.1                 | A4|0, B4|0.16       | A4|0, B4|1          | B4|0.964|0.9                             | B4|0.93               | B4|5                  | A4|0|0.2, B4|0.513|0.1                 | A4|0, B4|0.19       | A4|0, B4|1          |\n",
      "+---------+----------------------------------------+---------------------+---------------------+------------------------------------------+-----------------------+-----------------------+----------------------------------------+---------------------+---------------------+\n",
      "| C1      | D3|0.429|0.2, C1|0.3|0.1               | D3|0.47, C1|0.33    | D3|3, C1|2          | C1|0.967|0.8, D2|0|0.5                   | C1|0.83, D2|0         | C1|5, D2|0            | D2|0.225|0.3                           | D2|0.75             | D2|4                |\n",
      "+---------+----------------------------------------+---------------------+---------------------+------------------------------------------+-----------------------+-----------------------+----------------------------------------+---------------------+---------------------+\n",
      "| C2      | C3|0.324|0.2                           | C3|0.62             | C3|4                | C2|0.954|0.9, D3|0|0.5                   | C2|0.94, D3|0         | C2|5, D3|0            | C2|0.501|0.2                           | C2|0.4              | C2|3                |\n",
      "+---------+----------------------------------------+---------------------+---------------------+------------------------------------------+-----------------------+-----------------------+----------------------------------------+---------------------+---------------------+\n",
      "| C3      | C4|0.537|0.2, C3|0.353|0.1             | C4|0.37, C3|0.28    | C4|2, C3|2          | C3|0.587|1.0                             | C3|0.59               | C3|3                  | C3|0.53|0.3, C4|0.453|0.1              | C3|0.57, C4|0.22    | C3|3, C4|2          |\n",
      "+---------+----------------------------------------+---------------------+---------------------+------------------------------------------+-----------------------+-----------------------+----------------------------------------+---------------------+---------------------+\n",
      "| C4      | C4|0.906|0.6                           | C4|0.66             | C4|4                | C4|0.957|0.8, A4|0|0.2                   | C4|0.84, A4|0         | C4|5, A4|0            | C4|0.989|0.4                           | C4|0.4              | C4|3                |\n",
      "+---------+----------------------------------------+---------------------+---------------------+------------------------------------------+-----------------------+-----------------------+----------------------------------------+---------------------+---------------------+\n",
      "| D2      | C3|0.166|0.2, D3|0.251|0.1             | C3|0.83, D3|0.4     | C3|5, D3|3          | D2|0.719|0.9, C1|0.279|0.1               | D2|0.8, C1|0.36       | D2|5, C1|2            | D2|0.44|0.2, C1|0|0.1                  | D2|0.45, C1|0       | D2|3, C1|0          |\n",
      "+---------+----------------------------------------+---------------------+---------------------+------------------------------------------+-----------------------+-----------------------+----------------------------------------+---------------------+---------------------+\n",
      "| D3      | D3|0.327|0.2, C2|0|0.2                 | D3|0.61, C2|0       | D3|4, C2|0          | C2|0.297|0.7, D3|0.606|0.3               | C2|0.42, D3|0.5       | C2|3, D3|3            | D3|0.408|0.2                           | D3|0.49             | D3|3                |\n",
      "+---------+----------------------------------------+---------------------+---------------------+------------------------------------------+-----------------------+-----------------------+----------------------------------------+---------------------+---------------------+\n",
      "| D4      | C3|0.365|0.2                           | C3|0.55             | C3|3                | D4|0.903|0.7                             | D4|0.78               | D4|4                  | C3|0.43|0.2, C2|0|0.2                  | C3|0.47, C2|0       | C3|3, C2|0          |\n",
      "+---------+----------------------------------------+---------------------+---------------------+------------------------------------------+-----------------------+-----------------------+----------------------------------------+---------------------+---------------------+\n",
      "\n",
      "Sheet: Razvan\n",
      "+---------+----------------------------------------+------------------------+---------------------+------------------------------------------+-----------------------+-----------------------+----------------------------------------+---------------------+---------------------+\n",
      "| Tooth   | Upper Tooth|PyFCS_Value|Expert_Value   | Upper Score (0-1)      | Upper Score (1-5)   | Central Tooth|PyFCS_Value|Expert_Value   | Central Score (0-1)   | Central Score (1-5)   | Lower Tooth|PyFCS_Value|Expert_Value   | Lower Score (0-1)   | Lower Score (1-5)   |\n",
      "+=========+========================================+========================+=====================+==========================================+=======================+=======================+========================================+=====================+=====================+\n",
      "| A1      | A1|0.417|0.7, C1|0.15|0.4              | A1|0.6, C1|0.37        | A1|4, C1|2          | A1|1.0|0.9, B1|0|0.3                     | A1|0.9, B1|0          | A1|5, B1|0            | B1|0|0.6, A1|0.306|0.5                 | B1|0, A1|0.61       | B1|0, A1|4          |\n",
      "+---------+----------------------------------------+------------------------+---------------------+------------------------------------------+-----------------------+-----------------------+----------------------------------------+---------------------+---------------------+\n",
      "| A2      | A3|0.179|0.8, A2|0|0.5                 | A3|0.22, A2|0          | A3|2, A2|0          | A2|0.666|0.9                             | A2|0.74               | A2|4                  | B2|0.4|0.8                             | B2|0.5              | B2|3                |\n",
      "+---------+----------------------------------------+------------------------+---------------------+------------------------------------------+-----------------------+-----------------------+----------------------------------------+---------------------+---------------------+\n",
      "| A3      | C3|0.285|0.9, C2|0|0.3                 | C3|0.32, C2|0          | C3|2, C2|0          | A3|0.83|1.0, A2|0|0.3                    | A3|0.83, A2|0         | A3|5, A2|0            | C2|0.282|0.7                           | C2|0.4              | C2|3                |\n",
      "+---------+----------------------------------------+------------------------+---------------------+------------------------------------------+-----------------------+-----------------------+----------------------------------------+---------------------+---------------------+\n",
      "| A3_5    | A3_5|0|0.6, B4|0.435|0.5, B3|0|0.4     | A3_5|0, B4|0.87, B3|0  | A3_5|0, B4|5, B3|0  | A3_5|0.421|0.9, B4|0.245|0.6             | A3_5|0.47, B4|0.41    | A3_5|3, B4|3          | A3_5|0.272|0.7, B4|0.193|0.5           | A3_5|0.39, B4|0.39  | A3_5|2, B4|2        |\n",
      "+---------+----------------------------------------+------------------------+---------------------+------------------------------------------+-----------------------+-----------------------+----------------------------------------+---------------------+---------------------+\n",
      "| A4      | C4|0.546|0.6, C3|0|0.5                 | C4|0.91, C3|0          | C4|5, C3|0          | A4|0.711|1.0, A3_5|0|0.2, C4|0|0.2       | A4|0.71, A3_5|0, C4|0 | A4|4, A3_5|0, C4|0    | C4|0.718|0.3                           | C4|0.42             | C4|3                |\n",
      "+---------+----------------------------------------+------------------------+---------------------+------------------------------------------+-----------------------+-----------------------+----------------------------------------+---------------------+---------------------+\n",
      "| B1      | B1|0.301|0.8, A1|0|0.5                 | B1|0.38, A1|0          | B1|2, A1|0          | B1|0.992|1.0                             | B1|0.99               | B1|5                  | B1|0.504|0.8                           | B1|0.63             | B1|4                |\n",
      "+---------+----------------------------------------+------------------------+---------------------+------------------------------------------+-----------------------+-----------------------+----------------------------------------+---------------------+---------------------+\n",
      "| B2      | C2|0.361|0.5                           | C2|0.72                | C2|4                | B2|0.934|0.9, C1|0|0.4                   | B2|0.96, C1|0         | B2|5, C1|0            | D2|0|0.6, C1|0.291|0.5                 | D2|0, C1|0.58       | D2|0, C1|3          |\n",
      "+---------+----------------------------------------+------------------------+---------------------+------------------------------------------+-----------------------+-----------------------+----------------------------------------+---------------------+---------------------+\n",
      "| B3      | B4|0.378|0.6, C3|0|0.5                 | B4|0.63, C3|0          | B4|4, C3|0          | B3|0.982|0.9, A3_5|0|0.5, B4|0|0.3       | B3|0.92, A3_5|0, B4|0 | B3|5, A3_5|0, B4|0    | C3|0.199|0.6, B3|0.231|0.4             | C3|0.33, B3|0.58    | C3|2, B3|3          |\n",
      "+---------+----------------------------------------+------------------------+---------------------+------------------------------------------+-----------------------+-----------------------+----------------------------------------+---------------------+---------------------+\n",
      "| B4      | A3_5|0|0.6                             | A3_5|0                 | A3_5|0              | B4|0.964|1.0, B3|0|0.4                   | B4|0.96, B3|0         | B4|5, B3|0            | B3|0|0.5, B4|0.513|0.4                 | B3|0, B4|0.78       | B3|0, B4|4          |\n",
      "+---------+----------------------------------------+------------------------+---------------------+------------------------------------------+-----------------------+-----------------------+----------------------------------------+---------------------+---------------------+\n",
      "| C1      | D2|0|0.6                               | D2|0                   | D2|0                | C1|0.967|1.0, B2|0|0.3, D2|0|0.2         | C1|0.97, B2|0, D2|0   | C1|5, B2|0, D2|0      | D2|0.225|0.8                           | D2|0.28             | D2|2                |\n",
      "+---------+----------------------------------------+------------------------+---------------------+------------------------------------------+-----------------------+-----------------------+----------------------------------------+---------------------+---------------------+\n",
      "| C2      | C3|0.324|0.7                           | C3|0.46                | C3|3                | C2|0.954|1.0                             | C2|0.95               | C2|5                  | D3|0|0.3                               | D3|0                | D3|0                |\n",
      "+---------+----------------------------------------+------------------------+---------------------+------------------------------------------+-----------------------+-----------------------+----------------------------------------+---------------------+---------------------+\n",
      "| C3      | D4|0|0.7, C4|0.537|0.3, C3|0.353|0.3   | D4|0, C4|0.56, C3|0.85 | D4|0, C4|3, C3|5    | C3|0.587|0.9, D4|0.377|0.3               | C3|0.65, D4|0.8       | C3|4, D4|5            | C3|0.53|0.5                            | C3|0.94             | C3|5                |\n",
      "+---------+----------------------------------------+------------------------+---------------------+------------------------------------------+-----------------------+-----------------------+----------------------------------------+---------------------+---------------------+\n",
      "| C4      | C4|0.906|0.7                           | C4|0.77                | C4|4                | C4|0.957|1.0                             | C4|0.96               | C4|5                  | C4|0.989|0.7                           | C4|0.71             | C4|4                |\n",
      "+---------+----------------------------------------+------------------------+---------------------+------------------------------------------+-----------------------+-----------------------+----------------------------------------+---------------------+---------------------+\n",
      "| D2      | D4|0|0.7, D3|0.251|0.4                 | D4|0, D3|0.63          | D4|0, D3|4          | D2|0.719|1.0, C1|0.279|0.4               | D2|0.72, C1|0.7       | D2|4, C1|4            | C1|0|0.7, B2|0|0.3                     | C1|0, B2|0          | C1|0, B2|0          |\n",
      "+---------+----------------------------------------+------------------------+---------------------+------------------------------------------+-----------------------+-----------------------+----------------------------------------+---------------------+---------------------+\n",
      "| D3      | D4|0|0.7, C2|0|0.6                     | D4|0, C2|0             | D4|0, C2|0          | D3|0.606|0.9, C2|0.297|0.5               | D3|0.67, C2|0.59      | D3|4, C2|3            | C2|0.214|0.7, B2|0|0.7                 | C2|0.31, B2|0       | C2|2, B2|0          |\n",
      "+---------+----------------------------------------+------------------------+---------------------+------------------------------------------+-----------------------+-----------------------+----------------------------------------+---------------------+---------------------+\n",
      "| D4      | C3|0.365|0.7                           | C3|0.52                | C3|3                | D4|0.903|0.9, C3|0|0.4                   | D4|1.0, C3|0          | D4|5, C3|0            | C2|0|0.6, C3|0.43|0.6                  | C2|0, C3|0.72       | C2|0, C3|4          |\n",
      "+---------+----------------------------------------+------------------------+---------------------+------------------------------------------+-----------------------+-----------------------+----------------------------------------+---------------------+---------------------+\n",
      "\n",
      "Sheet: Oscar\n",
      "+---------+----------------------------------------+---------------------+---------------------+------------------------------------------+-----------------------+-----------------------+----------------------------------------+---------------------+---------------------+\n",
      "| Tooth   | Upper Tooth|PyFCS_Value|Expert_Value   | Upper Score (0-1)   | Upper Score (1-5)   | Central Tooth|PyFCS_Value|Expert_Value   | Central Score (0-1)   | Central Score (1-5)   | Lower Tooth|PyFCS_Value|Expert_Value   | Lower Score (0-1)   | Lower Score (1-5)   |\n",
      "+=========+========================================+=====================+=====================+==========================================+=======================+=======================+========================================+=====================+=====================+\n",
      "| A1      | B1|0|0.8, A1|0.417|0.2                 | B1|0, A1|0.48       | B1|0, A1|3          | A1|1.0|1.0                               | A1|1.0                | A1|5                  | A1|0.306|1.0                           | A1|0.31             | A1|2                |\n",
      "+---------+----------------------------------------+---------------------+---------------------+------------------------------------------+-----------------------+-----------------------+----------------------------------------+---------------------+---------------------+\n",
      "| A2      | A2|0|1.0                               | A2|0                | A2|0                | A2|0.666|1.0                             | A2|0.67               | A2|4                  | A2|0|1.0                               | A2|0                | A2|0                |\n",
      "+---------+----------------------------------------+---------------------+---------------------+------------------------------------------+-----------------------+-----------------------+----------------------------------------+---------------------+---------------------+\n",
      "| A3      | A3|0|1.0                               | A3|0                | A3|0                | A3|0.83|1.0                              | A3|0.83               | A3|5                  | A3|0|1.0                               | A3|0                | A3|0                |\n",
      "+---------+----------------------------------------+---------------------+---------------------+------------------------------------------+-----------------------+-----------------------+----------------------------------------+---------------------+---------------------+\n",
      "| A3_5    | B4|0.435|0.7, A3_5|0|0.3               | B4|0.62, A3_5|0     | B4|4, A3_5|0        | B4|0.245|0.6, A3_5|0.421|0.4             | B4|0.41, A3_5|0.95    | B4|3, A3_5|5          | B4|0.193|0.5, A3_5|0.272|0.5           | B4|0.39, A3_5|0.54  | B4|2, A3_5|3        |\n",
      "+---------+----------------------------------------+---------------------+---------------------+------------------------------------------+-----------------------+-----------------------+----------------------------------------+---------------------+---------------------+\n",
      "| A4      | A4|0.279|1.0                           | A4|0.28             | A4|2                | A4|0.711|1.0                             | A4|0.71               | A4|4                  | A4|0.254|1.0                           | A4|0.25             | A4|2                |\n",
      "+---------+----------------------------------------+---------------------+---------------------+------------------------------------------+-----------------------+-----------------------+----------------------------------------+---------------------+---------------------+\n",
      "| B1      | B1|0.301|1.0                           | B1|0.3              | B1|2                | B1|0.992|1.0                             | B1|0.99               | B1|5                  | B1|0.504|1.0                           | B1|0.5              | B1|3                |\n",
      "+---------+----------------------------------------+---------------------+---------------------+------------------------------------------+-----------------------+-----------------------+----------------------------------------+---------------------+---------------------+\n",
      "| B2      | B2|0.255|0.9, C1|0|0.1                 | B2|0.28, C1|0       | B2|2, C1|0          | B2|0.934|1.0                             | B2|0.93               | B2|5                  | B2|0|1.0                               | B2|0                | B2|0                |\n",
      "+---------+----------------------------------------+---------------------+---------------------+------------------------------------------+-----------------------+-----------------------+----------------------------------------+---------------------+---------------------+\n",
      "| B3      | A3_5|0|0.6, B3|0.167|0.4               | A3_5|0, B3|0.42     | A3_5|0, B3|3        | A3_5|0|0.6, B3|0.982|0.4                 | A3_5|0, B3|0.41       | A3_5|0, B3|3          | A3_5|0|0.5, B3|0.231|0.5               | A3_5|0, B3|0.46     | A3_5|0, B3|3        |\n",
      "+---------+----------------------------------------+---------------------+---------------------+------------------------------------------+-----------------------+-----------------------+----------------------------------------+---------------------+---------------------+\n",
      "| B4      | B4|0.643|0.7, A3_5|0|0.3               | B4|0.92, A3_5|0     | B4|5, A3_5|0        | B4|0.964|0.8, A3_5|0|0.2                 | B4|0.83, A3_5|0       | B4|5, A3_5|0          | B4|0.513|0.5, A3_5|0|0.5               | B4|0.97, A3_5|0     | B4|5, A3_5|0        |\n",
      "+---------+----------------------------------------+---------------------+---------------------+------------------------------------------+-----------------------+-----------------------+----------------------------------------+---------------------+---------------------+\n",
      "| C1      | C1|0.3|1.0                             | C1|0.3              | C1|2                | C1|0.967|1.0                             | C1|0.97               | C1|5                  | C1|0.268|1.0                           | C1|0.27             | C1|2                |\n",
      "+---------+----------------------------------------+---------------------+---------------------+------------------------------------------+-----------------------+-----------------------+----------------------------------------+---------------------+---------------------+\n",
      "| C2      | C2|0.19|0.8, D3|0|0.2                  | C2|0.24, D3|0       | C2|2, D3|0          | C2|0.954|0.8, D3|0|0.2                   | C2|0.84, D3|0         | C2|5, D3|0            | C2|0.501|0.5, D3|0|0.5                 | C2|1.0, D3|0        | C2|5, D3|0          |\n",
      "+---------+----------------------------------------+---------------------+---------------------+------------------------------------------+-----------------------+-----------------------+----------------------------------------+---------------------+---------------------+\n",
      "| C3      | C3|0.353|1.0                           | C3|0.35             | C3|2                | C3|0.587|1.0                             | C3|0.59               | C3|3                  | C3|0.53|1.0                            | C3|0.53             | C3|3                |\n",
      "+---------+----------------------------------------+---------------------+---------------------+------------------------------------------+-----------------------+-----------------------+----------------------------------------+---------------------+---------------------+\n",
      "| C4      | C4|0.906|1.0                           | C4|0.91             | C4|5                | C4|0.957|1.0                             | C4|0.96               | C4|5                  | C4|0.989|1.0                           | C4|0.99             | C4|5                |\n",
      "+---------+----------------------------------------+---------------------+---------------------+------------------------------------------+-----------------------+-----------------------+----------------------------------------+---------------------+---------------------+\n",
      "| D2      | D2|0|0.8, C1|0|0.2                     | D2|0, C1|0          | D2|0, C1|0          | D2|0.719|1.0                             | D2|0.72               | D2|4                  | D2|0.44|1.0                            | D2|0.44             | D2|3                |\n",
      "+---------+----------------------------------------+---------------------+---------------------+------------------------------------------+-----------------------+-----------------------+----------------------------------------+---------------------+---------------------+\n",
      "| D3      | D3|0.327|0.8, C2|0|0.2                 | D3|0.41, C2|0       | D3|3, C2|0          | D3|0.606|0.9, C2|0.297|0.1               | D3|0.67, C2|0.34      | D3|4, C2|2            | D3|0.408|0.8, C2|0.214|0.2             | D3|0.51, C2|0.93    | D3|3, C2|5          |\n",
      "+---------+----------------------------------------+---------------------+---------------------+------------------------------------------+-----------------------+-----------------------+----------------------------------------+---------------------+---------------------+\n",
      "| D4      | C2|0|1.0                               | C2|0                | C2|0                | C2|0|1.0                                 | C2|0                  | C2|0                  | C2|0|0.9, C1|0|0.1                     | C2|0, C1|0          | C2|0, C1|0          |\n",
      "+---------+----------------------------------------+---------------------+---------------------+------------------------------------------+-----------------------+-----------------------+----------------------------------------+---------------------+---------------------+\n"
     ]
    }
   ],
   "source": [
    "for sheet_name, df in resultados_comparacion.items():\n",
    "    print(f\"\\nSheet: {sheet_name}\")\n",
    "    print(tabulate(df, headers=\"keys\", tablefmt=\"grid\", showindex=False))"
   ]
  },
  {
   "cell_type": "code",
   "execution_count": 43,
   "metadata": {},
   "outputs": [
    {
     "name": "stdout",
     "output_type": "stream",
     "text": [
      "Archivo guardado en: c:\\Users\\rafav\\Desktop\\Tesis\\VITA_VS\\confidence_comparative.xlsx\n"
     ]
    }
   ],
   "source": [
    "import pandas as pd\n",
    "import os\n",
    "from openpyxl import load_workbook\n",
    "from openpyxl.styles import Font\n",
    "\n",
    "# Función para asignar color basado en el puntaje más alto en la celda\n",
    "def get_color(score):\n",
    "    colors = {\n",
    "        5: \"008000\",  # Verde oscuro\n",
    "        4: \"32CD32\",  # Verde claro\n",
    "        3: \"FFD700\",  # Amarillo\n",
    "        2: \"FF8C00\",  # Naranja\n",
    "        1: \"FF4500\",  # Rojo anaranjado\n",
    "        0: \"FF0000\",  # Rojo\n",
    "    }\n",
    "    return colors.get(score, \"000000\")  # Negro por defecto\n",
    "\n",
    "# Guardar el archivo Excel\n",
    "name = \"confidence_comparative.xlsx\"\n",
    "output_path = os.path.join(os.getcwd(), name)\n",
    "\n",
    "with pd.ExcelWriter(output_path, engine=\"openpyxl\") as writer:\n",
    "    for sheet_name, df in resultados_comparacion.items():\n",
    "        df.to_excel(writer, sheet_name=sheet_name, index=False)\n",
    "\n",
    "# Cargar el archivo de Excel para modificarlo con colores\n",
    "wb = load_workbook(output_path)\n",
    "\n",
    "for sheet_name in wb.sheetnames:\n",
    "    ws = wb[sheet_name]\n",
    "\n",
    "    # Identificar las columnas \"Upper Score (1-5)\", \"Central Score (1-5)\", \"Lower Score (1-5)\"\n",
    "    header = {cell.value: cell.column for cell in ws[1] if cell.value}\n",
    "    score_columns = [\"Upper Score (1-5)\", \"Central Score (1-5)\", \"Lower Score (1-5)\"]\n",
    "    score_col_indexes = [header[col] for col in score_columns if col in header]  # Obtiene índices de columnas relevantes\n",
    "\n",
    "    for row in ws.iter_rows(min_row=2):  # Omitir encabezado\n",
    "        for col_idx in score_col_indexes:\n",
    "            cell = row[col_idx - 1]  # openpyxl usa índices base 1, pero row usa base 0\n",
    "            if cell.value and \"|\" in str(cell.value):  \n",
    "                # Extraer valores de la celda\n",
    "                parts = str(cell.value).split(\", \")  \n",
    "                \n",
    "                try:\n",
    "                    scores = [float(part.split(\"|\")[-1]) for part in parts if \"|\" in part]  # Convertir a float\n",
    "                    max_score = int(max(scores))  # Obtener el puntaje más alto y convertirlo a entero\n",
    "                    color = get_color(max_score)  # Obtener color\n",
    "                    cell.font = Font(color=color)  # Aplicar color\n",
    "                except ValueError:\n",
    "                    pass  # Si hay un error, ignorarlo y dejar la celda sin cambios\n",
    "\n",
    "# Guardar cambios en el archivo Excel\n",
    "wb.save(output_path)\n",
    "print(f\"Archivo guardado en: {output_path}\")\n"
   ]
  }
 ],
 "metadata": {
  "kernelspec": {
   "display_name": "Python 3",
   "language": "python",
   "name": "python3"
  },
  "language_info": {
   "codemirror_mode": {
    "name": "ipython",
    "version": 3
   },
   "file_extension": ".py",
   "mimetype": "text/x-python",
   "name": "python",
   "nbconvert_exporter": "python",
   "pygments_lexer": "ipython3",
   "version": "3.10.13"
  }
 },
 "nbformat": 4,
 "nbformat_minor": 2
}
